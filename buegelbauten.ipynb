{
 "cells": [
  {
   "cell_type": "markdown",
   "id": "3c91526d-4616-44bb-bf47-4f09fb6ced84",
   "metadata": {},
   "source": [
    "# Klappen der Bügelbauten des Berliner Hauptbahnhofs "
   ]
  },
  {
   "cell_type": "markdown",
   "id": "e305f746-2465-406b-adae-4646366f8d66",
   "metadata": {},
   "source": [
    "Im folgenden sollen die Seilkräfte während des Klappvorgangs der Bügelbauten des Berliner Hauptbahnhofs\n",
    "berechnet werden. Der Rohbau wurde zunächst über Seilzüge angehoben bis der Schwerpunkt\n",
    "über dem Drehpunkt lag und anschließend über weitere Seilzüge bis in die Endlage abgesenkt. Gegeben\n",
    "ist die abgebildete Geometrie.\n",
    "\n",
    "<center><img src=\"buegelbauten.PNG\" alt=\"buegelbauten\"></center>"
   ]
  },
  {
   "cell_type": "markdown",
   "id": "02ccfc1d-410f-4da8-8359-b8b843285890",
   "metadata": {},
   "source": [
    "1.  Bestimmen Sie die Lage des Schwerpunkts $S$. Dabei kann aufgrund der Verteilung der diagonalen Stützseile angenommen werden, dass die Höhe $h$ kleiner als $\\frac{a}{2}$ ist. Der Wert für $h$ soll hier als Schätzung ($h = 19\\text{ m}$) vorgegeben sein. Desweiteren ist bekannt, dass sich der Schwerpunkt bei einem Kippwinkel von $ \\alpha_{GG}= 31^\\circ$ direkt über dem Lager befindet. Es bleibt noch $l$ zu bestimmen.\n",
    "\n",
    "2. Bestimmen Sie in Abhängigkeit des Kippwinkels $\\alpha$ die Vektoren $\\vec{AD}$, $\\vec{AS}$, $\\vec{DB}$ und $\\vec{DC}$. Stellen Sie auch die im Schwerpunkt $S$ wirkende Gewichtskraft $\\vec{G}$ als Vektor dar.\n",
    "\n",
    "3. Bestimmen Sie die Seilkraft $F_{S_1}$ des Seils, welches den Bügelbau anhebt, für Kippwinkel $\\alpha$ von $0^\\circ$ bis $31^\\circ$. Dabei soll nur dieses Seil Kräfte aufnehmen können.\n",
    "\n",
    "4. Bestimmen Sie die Seilkraft $F_{S_2}$ des Seils, welches den Bügelbau absenkt, für Kippwinkel $\\alpha$ von $31^\\circ$ bis zur Endlage. Dabei soll nur dieses Seil Kräfte aufnehmen können.\n",
    "\n",
    "5. Stellen Sie die Kraftverläufe von $F_{S_1}$ und $F_{S_2}$ grafisch dar.\n",
    "\n",
    "6. Damit um die Gleichgewichtslage bei $\\alpha_{GG} = 31^\\circ$ ein sicheres Arbeiten gewährleistet wird, sind bei den Winkellagen $9^\\circ \\leq \\alpha \\leq 37^\\circ$ beide Seile im Eingriff. Dabei soll die Seilkraft $|\\vec{F}_{S_1}|$ linear von $|\\vec{F}_{S_1}(\\alpha= 9^\\circ)|$ auf $| \\vec{F}_{S_1}( \\alpha= 37^\\circ)| = 0$ abfallen. Berechnen Sie die Kraft im zweiten Seil.\n",
    "\n",
    "7. Stellen Sie die Kraftverläufe $F_{S_1}$ und $F_{S_2}$ für den in 6.) dargestellten Fall grafisch dar.\n",
    "\n",
    "8. Welche maximalen Kräfte $F_{S_1,\\text{max}}$ und $F_{S_2,\\text{max}}$ müssen durch die Seile gehalten werden? Treffen Sie auch eine Aussage darüber, ob die Auslegung der Stärke der Seile bzw. Zugbündel aus 4 mal 20 Seilen beim Heben und 8 mal 20 Seile beim Senken sinnvoll ist.\n",
    "\n",
    "Geg.: $a = 43.5\\text{ m}$, $b = 15 \\text{ m}$, $c =  21.4 \\text{ m}$, $h \\approx 19 \\text{ m}$, $m = 1250 \\text{ t}$, $\\alpha_{GG} = 31^\\circ$"
   ]
  },
  {
   "cell_type": "markdown",
   "id": "13fff21b-5b19-4146-96e0-254b55147c95",
   "metadata": {},
   "source": [
    "### Importieren der verwendeten Bibliotheken"
   ]
  },
  {
   "cell_type": "code",
   "execution_count": 1,
   "id": "e203f1e5-fd23-4fab-8ca8-cb87f6c3b0bc",
   "metadata": {},
   "outputs": [],
   "source": [
    "### Bibliotheken importieren\n",
    "import numpy as np\n",
    "from sympy import *\n",
    "from sympy.physics.mechanics import *\n",
    "import matplotlib as mlp\n",
    "import matplotlib.pyplot as plt\n",
    "from IPython.display import Latex\n",
    "\n",
    "### Line Magic\n",
    "%matplotlib inline\n",
    "\n",
    "# Koordinatensystem \n",
    "e = ReferenceFrame('e')\n",
    "e.latex_vecs = [f'\\\\vec{{e}}_{var}' for var in ['x', 'y', 'z']]\n",
    "\n",
    "# Symbolische Variablen\n",
    "a, b, c, h, m, alpha_GG, g = symbols('a, b, c, h, m, alpha_GG, g')\n",
    "params = {a: 43.5, b: 15, c: 21.4, h: 19, m: 1250*1000, alpha_GG: rad(31), g: 9.81}"
   ]
  },
  {
   "cell_type": "markdown",
   "id": "2bc153b0-ff77-4d70-b97c-05c70e630206",
   "metadata": {},
   "source": [
    "### Lösung\n",
    "#### 1. Ermittlung der Schwerpunktskoordinaten \n",
    "\n",
    "Skizze eines Bügels im Gleichgewichtszustand:\n",
    "<center><img src=\"einzelbuegel.PNG\" alt=\"einzelbuegel\"></center>"
   ]
  },
  {
   "cell_type": "markdown",
   "id": "f36695d8-c9f1-43a7-bc32-0e24817d85d2",
   "metadata": {},
   "source": [
    "Mit $\\alpha_{GG} = 31^\\circ$ und $h \\approx 19 \\text{ m}$ folgt das Ergebnis (in $\\text{m}$) unmittelbar zu"
   ]
  },
  {
   "cell_type": "code",
   "execution_count": 2,
   "id": "c23a9c8c-ba17-4420-85d3-43c1d5f8e45c",
   "metadata": {},
   "outputs": [
    {
     "data": {
      "text/latex": [
       "$\\displaystyle h \\tan{\\left(\\alpha_{GG} \\right)}$"
      ],
      "text/plain": [
       "h*tan(alpha_GG)"
      ]
     },
     "metadata": {},
     "output_type": "display_data"
    },
    {
     "data": {
      "text/latex": [
       "$\\displaystyle 11.4163517615236$"
      ],
      "text/plain": [
       "11.4163517615236"
      ]
     },
     "metadata": {},
     "output_type": "display_data"
    }
   ],
   "source": [
    "l = h*tan(alpha_GG)\n",
    "display(l)                 # symbolisch\n",
    "display(N(l.subs(params))) # numerisch in m"
   ]
  },
  {
   "cell_type": "markdown",
   "id": "f00ee8f0-4dec-479d-8275-196add176bfe",
   "metadata": {},
   "source": [
    "#### 2. Vektorielle Darstellung aller Größen\n",
    "\n",
    "Skizze im gekippten Zustand:\n",
    "<center><img src=\"buegel_gekippt.PNG\" alt=\"buegel_gekippt\"></center>"
   ]
  },
  {
   "cell_type": "markdown",
   "id": "d58575f1-2cd5-458d-887d-50b0faa8d7ad",
   "metadata": {},
   "source": [
    "Mithilfe der Skizze lassen sich die Vektoren definieren:"
   ]
  },
  {
   "cell_type": "code",
   "execution_count": 3,
   "id": "f9f48933-6576-4b34-8dc5-6e86f7cf8a4a",
   "metadata": {},
   "outputs": [
    {
     "data": {
      "text/latex": [
       "$\\displaystyle (- c \\cos{\\left(\\alpha \\right)} + c)\\vec{e}_x + (- c \\sin{\\left(\\alpha \\right)} + c)\\vec{e}_y$"
      ],
      "text/plain": [
       "(-c*cos(alpha) + c)*e.x + (-c*sin(alpha) + c)*e.y"
      ]
     },
     "execution_count": 3,
     "metadata": {},
     "output_type": "execute_result"
    }
   ],
   "source": [
    "alpha = symbols('alpha')\n",
    "AD = c*(cos(alpha)*e.x + sin(alpha)*e.y)\n",
    "AS = l*(cos(alpha)*e.x + sin(alpha)*e.y) + h*(-sin(alpha)*e.x + cos(alpha)*e.y)\n",
    "DB = -AD + c*e.x\n",
    "DC = DB + c*e.y\n",
    "G = -m*g*e.y\n",
    "\n",
    "DC"
   ]
  },
  {
   "cell_type": "markdown",
   "id": "5a13b7c4-5d47-4d55-941d-661159559d8a",
   "metadata": {},
   "source": [
    "#### 3. Seilkraft $\\vec{F}_{S_1}$\n",
    "\n",
    "Freischnitt beim Anheben:\n",
    "<center><img src=\"buegel_freischnitt_beim_anheben.PNG\" alt=\"buegel_freischnitt_beim_anheben\"></center>"
   ]
  },
  {
   "cell_type": "markdown",
   "id": "f9e16822-e7fb-4c11-8d19-3fcea098ff42",
   "metadata": {},
   "source": [
    "Zunächst drücken wir den Vektor $\\vec{F}_{S_1}$ über seinen noch unbekannte Betrag $F_{S_1}$ und seine Richtung $\\frac{\\vec{DC}}{|\\vec{DC}|}$ aus:"
   ]
  },
  {
   "cell_type": "code",
   "execution_count": 4,
   "id": "db89f78b-f7ca-4419-8f1d-66039478fb1f",
   "metadata": {},
   "outputs": [
    {
     "data": {
      "text/latex": [
       "$\\displaystyle \\frac{F_{S1} \\left(- c \\cos{\\left(\\alpha \\right)} + c\\right)}{\\sqrt{\\left(- c \\sin{\\left(\\alpha \\right)} + c\\right)^{2} + \\left(- c \\cos{\\left(\\alpha \\right)} + c\\right)^{2}}}\\vec{e}_x + \\frac{F_{S1} \\left(- c \\sin{\\left(\\alpha \\right)} + c\\right)}{\\sqrt{\\left(- c \\sin{\\left(\\alpha \\right)} + c\\right)^{2} + \\left(- c \\cos{\\left(\\alpha \\right)} + c\\right)^{2}}}\\vec{e}_y$"
      ],
      "text/plain": [
       "F_S1*(-c*cos(alpha) + c)/sqrt((-c*sin(alpha) + c)**2 + (-c*cos(alpha) + c)**2)*e.x + F_S1*(-c*sin(alpha) + c)/sqrt((-c*sin(alpha) + c)**2 + (-c*cos(alpha) + c)**2)*e.y"
      ]
     },
     "execution_count": 4,
     "metadata": {},
     "output_type": "execute_result"
    }
   ],
   "source": [
    "F_S1 = symbols('F_S1') # Betrag \n",
    "\n",
    "F_S1_vec = F_S1 * DC/DC.magnitude()\n",
    "F_S1_vec"
   ]
  },
  {
   "cell_type": "markdown",
   "id": "95a1b334-fe8b-4d3d-a39b-b0b1a3113a81",
   "metadata": {},
   "source": [
    "Als nächstes werten wir eine Momentenbilanz um den Punkt $A$ aus:"
   ]
  },
  {
   "cell_type": "code",
   "execution_count": 5,
   "id": "ecc5d3b2-04b2-4da6-85ff-6079c57a080e",
   "metadata": {},
   "outputs": [
    {
     "data": {
      "text/latex": [
       "$\\displaystyle (\\frac{F_{S1} c \\left(- c \\sin{\\left(\\alpha \\right)} + c\\right) \\cos{\\left(\\alpha \\right)}}{\\sqrt{\\left(- c \\sin{\\left(\\alpha \\right)} + c\\right)^{2} + \\left(- c \\cos{\\left(\\alpha \\right)} + c\\right)^{2}}} - \\frac{F_{S1} c \\left(- c \\cos{\\left(\\alpha \\right)} + c\\right) \\sin{\\left(\\alpha \\right)}}{\\sqrt{\\left(- c \\sin{\\left(\\alpha \\right)} + c\\right)^{2} + \\left(- c \\cos{\\left(\\alpha \\right)} + c\\right)^{2}}} - g m \\left(- h \\sin{\\left(\\alpha \\right)} + h \\cos{\\left(\\alpha \\right)} \\tan{\\left(\\alpha_{GG} \\right)}\\right))\\vec{e}_z$"
      ],
      "text/plain": [
       "(F_S1*c*(-c*sin(alpha) + c)*cos(alpha)/sqrt((-c*sin(alpha) + c)**2 + (-c*cos(alpha) + c)**2) - F_S1*c*(-c*cos(alpha) + c)*sin(alpha)/sqrt((-c*sin(alpha) + c)**2 + (-c*cos(alpha) + c)**2) - g*m*(-h*sin(alpha) + h*cos(alpha)*tan(alpha_GG)))*e.z"
      ]
     },
     "execution_count": 5,
     "metadata": {},
     "output_type": "execute_result"
    }
   ],
   "source": [
    "M_A1 = AS.cross(G) + AD.cross(F_S1_vec)\n",
    "M_A1"
   ]
  },
  {
   "cell_type": "markdown",
   "id": "9bc629ce-99ee-41af-b5e6-d5c933bfe298",
   "metadata": {},
   "source": [
    "Anschließend projizieren wir das Ergebnis mit `dot` (Skalarprodukt) auf $\\vec{e}_z$ und lösen mit `solve` nach $F_{S_1}$ auf:"
   ]
  },
  {
   "cell_type": "code",
   "execution_count": 6,
   "id": "46935d2d-a22e-4a9a-8420-3354ede21834",
   "metadata": {},
   "outputs": [
    {
     "data": {
      "text/latex": [
       "$\\displaystyle - \\frac{\\sqrt{2} g h m \\sqrt{- c^{2} \\left(2 \\sqrt{2} \\sin{\\left(\\alpha + \\frac{\\pi}{4} \\right)} - 3\\right)} \\left(\\sin{\\left(\\alpha \\right)} - \\cos{\\left(\\alpha \\right)} \\tan{\\left(\\alpha_{GG} \\right)}\\right)}{2 c^{2} \\cos{\\left(\\alpha + \\frac{\\pi}{4} \\right)}}$"
      ],
      "text/plain": [
       "-sqrt(2)*g*h*m*sqrt(-c**2*(2*sqrt(2)*sin(alpha + pi/4) - 3))*(sin(alpha) - cos(alpha)*tan(alpha_GG))/(2*c**2*cos(alpha + pi/4))"
      ]
     },
     "execution_count": 6,
     "metadata": {},
     "output_type": "execute_result"
    }
   ],
   "source": [
    "F_S1_sol = solve(M_A1.dot(e.z),F_S1)[0]\n",
    "F_S1_sol"
   ]
  },
  {
   "cell_type": "markdown",
   "id": "c9a96b9d-d4ef-475c-a3cd-260acbfcd6c7",
   "metadata": {},
   "source": [
    "#### 4. Seilkraft $\\vec{F}_{S_2}$\n",
    "\n",
    "Freischnitt beim Absenken:\n",
    "<center><img src=\"buegel_freischnitt_beim_absenken.PNG\" alt=\"buegel_freischnitt_beim_absenken\"></center>"
   ]
  },
  {
   "cell_type": "markdown",
   "id": "32967817-ce89-4173-924d-8fb063b067a0",
   "metadata": {
    "tags": []
   },
   "source": [
    "Das Vorgehen ist äquivalent zu Teilaufgabe 3:"
   ]
  },
  {
   "cell_type": "code",
   "execution_count": 7,
   "id": "cfd21822-140e-4a70-87a5-0a795ad74a90",
   "metadata": {},
   "outputs": [
    {
     "data": {
      "text/latex": [
       "$\\displaystyle \\frac{\\sqrt{2} g h m \\sqrt{c^{2} \\left(1 - \\cos{\\left(\\alpha \\right)}\\right)} \\left(1 - \\frac{\\tan{\\left(\\alpha_{GG} \\right)}}{\\tan{\\left(\\alpha \\right)}}\\right)}{c^{2}}$"
      ],
      "text/plain": [
       "sqrt(2)*g*h*m*sqrt(c**2*(1 - cos(alpha)))*(1 - tan(alpha_GG)/tan(alpha))/c**2"
      ]
     },
     "execution_count": 7,
     "metadata": {},
     "output_type": "execute_result"
    }
   ],
   "source": [
    "F_S2 = symbols('F_S2') # betrag \n",
    "\n",
    "F_S2_vec = F_S2 * DB/DB.magnitude()\n",
    "F_S2_vec\n",
    "\n",
    "M_A2 = AS.cross(G) + AD.cross(F_S2_vec)\n",
    "F_S2_sol = solve(M_A2.dot(e.z),F_S2)[0]\n",
    "F_S2_sol"
   ]
  },
  {
   "cell_type": "markdown",
   "id": "e511b948-76ee-4263-b732-1ea39b5ef8a7",
   "metadata": {},
   "source": [
    "#### 5. Verläufe der Seilkräfte in Abhängigkeit des Kippwinkels \n",
    "Für die grafische Darstellung der Seilkräfte $F_{S_1}, F_{S_2}$, konvertieren wir diese mit `lambdify` in Funktionen, sodass wir diese an Stellen ihres Definitionsbereiches auswerten können:"
   ]
  },
  {
   "cell_type": "code",
   "execution_count": 31,
   "id": "31170fc1-ceda-449e-9953-9935863c85aa",
   "metadata": {},
   "outputs": [
    {
     "data": {
      "image/png": "[encoded data removed]",
      "text/plain": [
       "<Figure size 648x432 with 1 Axes>"
      ]
     },
     "metadata": {
      "needs_background": "light"
     },
     "output_type": "display_data"
    }
   ],
   "source": [
    "F_S1_fun = lambdify(alpha, F_S1_sol.subs(params))\n",
    "F_S2_fun = lambdify(alpha, F_S2_sol.subs(params))\n",
    "\n",
    "def bereich(start,ende,einheit='deg'):\n",
    "    out = np.linspace(start,ende)\n",
    "    if einheit == 'rad':\n",
    "        out = np.radians(out)\n",
    "    return out\n",
    "\n",
    "# Plots\n",
    "mlp.rc('font', size=16)\n",
    "fig, ax = plt.subplots()\n",
    "fig.set_size_inches(9,6)\n",
    "ax.plot(bereich(0,31),F_S1_fun(bereich(0,31,'rad')), label='$F_{S_1}$')\n",
    "ax.plot(bereich(31,90),F_S2_fun(bereich(31,90,'rad')), label='$F_{S_2}$')\n",
    "ax.set_xlabel('$\\\\alpha$ in \\N{DEGREE SIGN}')\n",
    "ax.set_ylabel('$F_{S_1}$ / $F_{S_2}$ in N')\n",
    "ax.set_xlim([0,90])\n",
    "ax.set_ylim([0, 1.6*10**7])\n",
    "ax.legend()\n",
    "plt.show()"
   ]
  },
  {
   "cell_type": "markdown",
   "id": "f09a0640-81e6-437e-a2db-06d4ab78291a",
   "metadata": {},
   "source": [
    "#### 6. Seilkraft $\\vec{F}_{S_2}$ in der Lage zwischen $9^\\circ$ und $37^\\circ$\n",
    "Nun werden beide Kräfte im Freischnitt berücksichtigt:\n",
    "<center><img src=\"buegel_freischnitt_beide_kraefte.PNG\" alt=\"buegel_freichnitt_beide_kraefte\"></center>\n",
    "\n",
    "Eine erneute Momentenbilanz um $A$ liefert das gesuchte Ergebnis für $F_{S_2}$ in Abhängigkeit von $F_{S_1}$ und $\\alpha$:"
   ]
  },
  {
   "cell_type": "code",
   "execution_count": 9,
   "id": "3ae1ac80-da92-4c4a-b60b-082ef2e915c7",
   "metadata": {},
   "outputs": [
    {
     "data": {
      "text/latex": [
       "$\\displaystyle \\frac{\\sqrt{c^{2} \\left(2 - 2 \\cos{\\left(\\alpha \\right)}\\right)} \\left(- F_{S1} \\sqrt{c^{2} \\left(- 2 \\sqrt{2} \\sin{\\left(\\alpha + \\frac{\\pi}{4} \\right)} + 3\\right)} \\sin{\\left(\\alpha \\right)} + F_{S1} \\sqrt{c^{2} \\left(- 2 \\sqrt{2} \\sin{\\left(\\alpha + \\frac{\\pi}{4} \\right)} + 3\\right)} \\cos{\\left(\\alpha \\right)} + g h m \\left(- 2 \\sqrt{2} \\sin{\\left(\\alpha + \\frac{\\pi}{4} \\right)} + 3\\right) \\sin{\\left(\\alpha \\right)} - g h m \\left(- 2 \\sqrt{2} \\sin{\\left(\\alpha + \\frac{\\pi}{4} \\right)} + 3\\right) \\cos{\\left(\\alpha \\right)} \\tan{\\left(\\alpha_{GG} \\right)}\\right)}{c^{2} \\left(- 2 \\sqrt{2} \\sin{\\left(\\alpha + \\frac{\\pi}{4} \\right)} + 3\\right) \\sin{\\left(\\alpha \\right)}}$"
      ],
      "text/plain": [
       "sqrt(c**2*(2 - 2*cos(alpha)))*(-F_S1*sqrt(c**2*(-2*sqrt(2)*sin(alpha + pi/4) + 3))*sin(alpha) + F_S1*sqrt(c**2*(-2*sqrt(2)*sin(alpha + pi/4) + 3))*cos(alpha) + g*h*m*(-2*sqrt(2)*sin(alpha + pi/4) + 3)*sin(alpha) - g*h*m*(-2*sqrt(2)*sin(alpha + pi/4) + 3)*cos(alpha)*tan(alpha_GG))/(c**2*(-2*sqrt(2)*sin(alpha + pi/4) + 3)*sin(alpha))"
      ]
     },
     "execution_count": 9,
     "metadata": {},
     "output_type": "execute_result"
    }
   ],
   "source": [
    "M_A3 = AS.cross(G) + AD.cross(F_S1_vec) + AD.cross(F_S2_vec)\n",
    "F_S2_neu = solve(M_A3.dot(e.z),F_S2)[0]\n",
    "F_S2_neu"
   ]
  },
  {
   "cell_type": "markdown",
   "id": "79c0075a-80df-43b9-9442-58205a88ce65",
   "metadata": {},
   "source": [
    "Wir konstruieren noch $F_{S_1}$ wie gefordert als linear abfallend zwischen $9^\\circ$ und $37^\\circ$ unter Zuhilfenahme der Zweipunkteform einer Geraden:"
   ]
  },
  {
   "cell_type": "code",
   "execution_count": 10,
   "id": "41475a74-b975-49c6-b81e-01ddc253c1f6",
   "metadata": {},
   "outputs": [
    {
     "data": {
      "text/latex": [
       "$\\displaystyle 6381220.56809312 - 9881540.72145431 \\alpha$"
      ],
      "text/plain": [
       "6381220.56809312 - 9881540.72145431*alpha"
      ]
     },
     "execution_count": 10,
     "metadata": {},
     "output_type": "execute_result"
    }
   ],
   "source": [
    "F_S1_9 = F_S1_sol.subs(params).subs(alpha,rad(9)) # F_S1 für alpha=9°\n",
    "F_S1_37 = 0                                       # F_S1 für alpha=37° \n",
    "\n",
    "F_S1_lin = (F_S1_37 - F_S1_9) / (rad(37) - rad(9)) * (alpha - rad(9)) + F_S1_9 # Zweipunkteform\n",
    "N(F_S1_lin)"
   ]
  },
  {
   "cell_type": "markdown",
   "id": "6700eef4-79db-45f7-9c38-2f2a51ad4ad2",
   "metadata": {},
   "source": [
    "#### 7. Verlauf der Seilkräfte in Abhängigkeit des Kippwinkels "
   ]
  },
  {
   "cell_type": "code",
   "execution_count": 37,
   "id": "23293629-6c2e-4f8e-8d39-509bf8d20d40",
   "metadata": {},
   "outputs": [
    {
     "data": {
      "image/png": "[encoded data removed]",
      "text/plain": [
       "<Figure size 648x432 with 1 Axes>"
      ]
     },
     "metadata": {
      "needs_background": "light"
     },
     "output_type": "display_data"
    }
   ],
   "source": [
    "F_S1_fun2 = lambdify(alpha, F_S1_lin.subs(params))\n",
    "params[F_S1] = F_S1_lin\n",
    "F_S2_fun2 = lambdify(alpha, F_S2_neu.subs(params))\n",
    "\n",
    "# Plots\n",
    "mlp.rc('font', size=16)\n",
    "fig, ax = plt.subplots()\n",
    "fig.set_size_inches(9,6)\n",
    "\n",
    "blau = '#1f77b4'\n",
    "orange = '#ff7f0e'\n",
    "gruen = '#2ca02c'\n",
    "rot = '#d62728'\n",
    "\n",
    "ax.plot(bereich(0,9),F_S1_fun(bereich(0,9,'rad')), label='$F_{S_1,neu}$', color=orange)\n",
    "ax.plot(bereich(9,37),F_S1_fun2(bereich(9,37,'rad')), color=orange)\n",
    "ax.plot(bereich(0,31), F_S1_fun(bereich(0,31,'rad')), label='$F_{S_1,alt}$', linestyle='--', color=blau)\n",
    "\n",
    "ax.plot(bereich(9,37),F_S2_fun2(bereich(9,37,'rad')), color = gruen, label='$F_{S_2,neu}$')\n",
    "ax.plot(bereich(37,90),F_S2_fun(bereich(37,90,'rad')), color=gruen)\n",
    "ax.plot(bereich(31,90), F_S2_fun(bereich(31,90,'rad')), label='$F_{S_2,alt}$', color=rot, linestyle='--')\n",
    "ax.set_xlabel('$\\\\alpha$ in \\N{DEGREE SIGN}')\n",
    "ax.set_ylabel('$F_{S_1}$ / $F_{S_2}$ in N')\n",
    "ax.set_xlim([0,90])\n",
    "ax.set_ylim([0, 1.6*10**7])\n",
    "ax.legend()\n",
    "plt.show()"
   ]
  },
  {
   "cell_type": "markdown",
   "id": "89639309-2e2e-42aa-ad95-e5bac6c9acd4",
   "metadata": {},
   "source": [
    "#### 8. maximale Seilkräfte\n",
    "Das Maximum von ${F_{S_1}}$ tritt bei $0^\\circ$, das von $F_{S_2}$ bei $90^\\circ$ auf."
   ]
  },
  {
   "cell_type": "code",
   "execution_count": 12,
   "id": "0eaab695-db12-45c6-b77c-e9b69ad3237f",
   "metadata": {},
   "outputs": [
    {
     "name": "stdout",
     "output_type": "stream",
     "text": [
      "Die maximale Kraft im ersten Seil beträgt 6.54E+06 N.\n",
      "Die maximale Kraft im zweiten Seil beträgt 1.54E+07 N.\n"
     ]
    }
   ],
   "source": [
    "F_S1_max = F_S1_fun(0)\n",
    "F_S2_max = F_S2_fun(90*np.pi/180)\n",
    "print(f\"Die maximale Kraft im ersten Seil beträgt {F_S1_max:.2E} N.\")\n",
    "print(f\"Die maximale Kraft im zweiten Seil beträgt {F_S2_max:.2E} N.\")"
   ]
  },
  {
   "cell_type": "code",
   "execution_count": null,
   "id": "4cebbe14-8569-4a7a-b204-22ab6f4af522",
   "metadata": {},
   "outputs": [],
   "source": []
  }
 ],
 "metadata": {
  "kernelspec": {
   "display_name": "Python 3",
   "language": "python",
   "name": "python3"
  },
  "language_info": {
   "codemirror_mode": {
    "name": "ipython",
    "version": 3
   },
   "file_extension": ".py",
   "mimetype": "text/x-python",
   "name": "python",
   "nbconvert_exporter": "python",
   "pygments_lexer": "ipython3",
   "version": "3.8.8"
  }
 },
 "nbformat": 4,
 "nbformat_minor": 5
}
