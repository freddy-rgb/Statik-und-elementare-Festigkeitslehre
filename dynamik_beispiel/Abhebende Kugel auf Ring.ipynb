{
 "cells": [
  {
   "cell_type": "code",
   "execution_count": 1,
   "id": "dcfb30ff",
   "metadata": {},
   "outputs": [],
   "source": [
    "# geladene Bibliotheken und Funktionen\n",
    "import numpy as np\n",
    "from sympy import *\n",
    "from sympy.physics.vector import *\n",
    "import matplotlib.pyplot as plt\n",
    "from matplotlib.animation import FuncAnimation\n",
    "from scipy.integrate import solve_ivp\n",
    "\n",
    "# Line Magics \n",
    "%matplotlib inline\n",
    "%config InlineBackend.figure_format = 'retina'\n",
    "%matplotlib widget"
   ]
  },
  {
   "cell_type": "code",
   "execution_count": 2,
   "id": "3c93717a",
   "metadata": {},
   "outputs": [],
   "source": [
    "m, g, R, t, v0 = symbols('m, g, R, t, v0')\n",
    "x = Function('x')(t)\n",
    "y = Function('y')(t)"
   ]
  },
  {
   "cell_type": "markdown",
   "id": "fc365a36",
   "metadata": {},
   "source": [
    "Wir definieren zunächst ein Koordinatensystem:"
   ]
  },
  {
   "cell_type": "code",
   "execution_count": 3,
   "id": "438b50e1",
   "metadata": {},
   "outputs": [],
   "source": [
    "E = ReferenceFrame('E') "
   ]
  },
  {
   "cell_type": "markdown",
   "id": "b6391a9b",
   "metadata": {},
   "source": [
    "#### Orts- und Geschwindigkeitsvektoren"
   ]
  },
  {
   "cell_type": "code",
   "execution_count": 4,
   "id": "4bf8f6a6",
   "metadata": {},
   "outputs": [
    {
     "data": {
      "text/latex": [
       "$\\displaystyle \\frac{d}{d t} x{\\left(t \\right)}\\mathbf{\\hat{e}_x} + \\frac{d}{d t} y{\\left(t \\right)}\\mathbf{\\hat{e}_y}$"
      ],
      "text/plain": [
       "Derivative(x(t), t)*E.x + Derivative(y(t), t)*E.y"
      ]
     },
     "execution_count": 4,
     "metadata": {},
     "output_type": "execute_result"
    }
   ],
   "source": [
    "r = x*E.x + y*E.y\n",
    "v = r.diff(t,E) # Ableitung des Vektors r nach t im KOS E\n",
    "r\n",
    "v"
   ]
  },
  {
   "cell_type": "markdown",
   "id": "719ac185",
   "metadata": {},
   "source": [
    "#### Lagrangefunktion"
   ]
  },
  {
   "cell_type": "code",
   "execution_count": 5,
   "id": "37fe2edd",
   "metadata": {},
   "outputs": [
    {
     "data": {
      "text/latex": [
       "$\\displaystyle - g m y{\\left(t \\right)} + 0.5 m \\left(\\left(\\frac{d}{d t} x{\\left(t \\right)}\\right)^{2} + \\left(\\frac{d}{d t} y{\\left(t \\right)}\\right)^{2}\\right)$"
      ],
      "text/plain": [
       "-g*m*y(t) + 0.5*m*(Derivative(x(t), t)**2 + Derivative(y(t), t)**2)"
      ]
     },
     "execution_count": 5,
     "metadata": {},
     "output_type": "execute_result"
    }
   ],
   "source": [
    "L = 1/2*m*dot(v,v) - m*g*dot(r,E.y)\n",
    "L"
   ]
  },
  {
   "cell_type": "markdown",
   "id": "dcbcd33e",
   "metadata": {},
   "source": [
    "#### Zwangsbedingung"
   ]
  },
  {
   "cell_type": "code",
   "execution_count": 6,
   "id": "9d9ac8b8",
   "metadata": {},
   "outputs": [
    {
     "data": {
      "text/latex": [
       "$\\displaystyle - R^{2} + x^{2}{\\left(t \\right)} + y^{2}{\\left(t \\right)}$"
      ],
      "text/plain": [
       "-R**2 + x(t)**2 + y(t)**2"
      ]
     },
     "execution_count": 6,
     "metadata": {},
     "output_type": "execute_result"
    }
   ],
   "source": [
    "gg = x**2 + y**2 - R**2 \n",
    "gg"
   ]
  },
  {
   "cell_type": "code",
   "execution_count": 7,
   "id": "a792cd16",
   "metadata": {},
   "outputs": [],
   "source": [
    "l = Function('lambda')(t)"
   ]
  },
  {
   "cell_type": "markdown",
   "id": "7889d663",
   "metadata": {},
   "source": [
    "#### Bewegungsgleichungen"
   ]
  },
  {
   "cell_type": "code",
   "execution_count": 8,
   "id": "2c1496d3",
   "metadata": {},
   "outputs": [
    {
     "data": {
      "text/latex": [
       "$\\displaystyle \\left[\\begin{matrix}1.0 m \\frac{d^{2}}{d t^{2}} x{\\left(t \\right)} = 2 \\lambda{\\left(t \\right)} x{\\left(t \\right)} & g m + 1.0 m \\frac{d^{2}}{d t^{2}} y{\\left(t \\right)} = 2 \\lambda{\\left(t \\right)} y{\\left(t \\right)}\\end{matrix}\\right]$"
      ],
      "text/plain": [
       "[Eq(1.0*m*Derivative(x(t), (t, 2)), 2*lambda(t)*x(t)), Eq(g*m + 1.0*m*Derivative(y(t), (t, 2)), 2*lambda(t)*y(t))]"
      ]
     },
     "execution_count": 8,
     "metadata": {},
     "output_type": "execute_result"
    }
   ],
   "source": [
    "odes = [Eq(diff(L,diff(z,t),t) - diff(L,z), l*diff(gg,z)) for z in [x,y]]\n",
    "Array(odes)"
   ]
  },
  {
   "cell_type": "markdown",
   "id": "e9ce3d83",
   "metadata": {},
   "source": [
    "Die Details nachfolgender Implementierung können in Mehrkörpersysteme von Woernle S. 147-149 und S. 186-188 nachgelesen werden."
   ]
  },
  {
   "cell_type": "code",
   "execution_count": 9,
   "id": "0e6f5d70",
   "metadata": {},
   "outputs": [],
   "source": [
    "### siehe Woernle, Mehrkörpersysteme S. 147-149, 186-188\n",
    "param = {R: 2, g: 9.81, m:1, v0: 9.5}\n",
    "\n",
    "\n",
    "r_mat = Matrix([x,y])\n",
    "v_mat = diff(r_mat, t)\n",
    "g_mat = Matrix([gg])\n",
    "\n",
    "#alpha, beta = symbols('alpha, beta') # Baumgarte-Stabilisierungsparameter\n",
    "alpha = beta = 10\n",
    "M = m*eye(2) # Massenmatrix\n",
    "fe = Matrix([0, -m*g]) # eingeprägte Kräfte\n",
    "G = g_mat.jacobian(r_mat) # Jacobi-Matrix dg/dr\n",
    "Q = G*M.inv()*G.T\n",
    "\n",
    "# alte Variablen \n",
    "old = Matrix.vstack(r_mat, v_mat)\n",
    "# neue Variablen \n",
    "new = symbols('x1:'+str(len(old)+1))\n",
    "\n",
    "# die folgenden beiden dicts werden für die partielle Ableitung von g nach t benötigt\n",
    "dummy = dict(zip(r_mat, new[:len(new)//2]))\n",
    "ymmud = dict((v,k) for k,v in dummy.items()) # keys und values von dummy getauscht\n",
    "\n",
    "gam_bb = diff(G,t) * v_mat + diff(g_mat.subs(dummy),t).subs(ymmud) # dG/dt*v + \\partial g/\\partial t\n",
    "\n",
    "\n",
    "## Aufbau des DGL-Systems nach Woernle, S. 149, Gl. (5.70) mit Stabilisierung nach Baumgarte S. 187f\n",
    "\n",
    "# erster Teil des DGL-Systems: dr/dt = part1\n",
    "teil1 = v_mat\n",
    "# zweiter Teil: dv/dt = part2\n",
    "lam = -Q.inv()*(G*M.inv()*fe + gam_bb + 2*alpha*diff(g_mat,t) + beta**2*g_mat) # Lagrange-Multiplikator\n",
    "teil2 = M.inv()*(fe+G.T*lam)\n",
    "#Alternative: part2 = M.inv()*(eye(2) - G.T*Q.inv()*G*M.inv())*fe - M.inv()*G.T*Q.inv()*(gam_bb + 2*alpha*diff(g_mat,t) + beta**2*g_mat)\n",
    "\n",
    "# Gesamtes DGL-System: [dr/dt dv/dt]^T = dglSystem\n",
    "dglSystem = Matrix.vstack(teil1,teil2)\n",
    "\n",
    "# ersetze x,y und ihre Ableitungen, sowie Parameter\n",
    "old2new = dict(zip(old,new))\n",
    "RHS = dglSystem.subs({**old2new,**param})\n",
    "\n",
    "normalkraft = (lam*sqrt(G.dot(G))).subs({**param,**old2new})\n",
    "\n",
    "\n",
    "X = new\n",
    "f = lambdify([t, X], np.array(RHS).flatten()) # rechte Seite des DGL-Systems für solve_ivp \n",
    "\n",
    "# Event des Abhebens\n",
    "abheben = lambdify([t,X], normalkraft) # Abheben: Normalkraft = 0\n",
    "abheben.terminal = True # stoppe numerische Integration bei Eintritt des Events\n"
   ]
  },
  {
   "cell_type": "code",
   "execution_count": 10,
   "id": "d73def72",
   "metadata": {},
   "outputs": [],
   "source": [
    "# vor Abheben\n",
    "tspan = [0, 10]\n",
    "# Anfangsbedingungen\n",
    "x0 = 0\n",
    "y0 = -R\n",
    "vx0 = v0\n",
    "vy0 = 0\n",
    "\n",
    "Y0 = Matrix([x0, y0, vx0, vy0]).subs(param)\n",
    "Y0 = np.array(Y0).astype(np.float64).flatten()\n",
    "sol=solve_ivp(f,tspan,Y0,events=abheben,rtol=1e-9,atol=1e-12,t_eval=np.linspace(*tspan,1000))\n",
    "\n",
    "# nach Abheben\n",
    "RHS2 = Matrix([X[2], X[3], 0, -g]).subs(param)\n",
    "f2 = lambdify([t, X], np.array(RHS2).flatten())\n",
    "aufprall = lambdify([t, X], gg.subs({**param,**old2new}))\n",
    "aufprall.terminal = True\n",
    "aufprall.direction = 1\n",
    "tspan2 = [sol.t[-1], tspan[-1]]\n",
    "x1 = sol.y[0,-1]\n",
    "y1 = sol.y[1,-1]\n",
    "vx1 = sol.y[2,-1]\n",
    "vy1 = sol.y[3,-1]\n",
    "Y1 = Matrix([x1, y1, vx1, vy1])\n",
    "Y1 = np.array(Y1).astype(np.float64).flatten()\n",
    "sol2 = solve_ivp(f2,tspan2,Y1,rtol=1e-9,atol=1e-12,events=aufprall,t_eval=np.linspace(*tspan2,1000))"
   ]
  },
  {
   "cell_type": "code",
   "execution_count": 11,
   "id": "dda0dd0f",
   "metadata": {},
   "outputs": [
    {
     "data": {
      "application/vnd.jupyter.widget-view+json": {
       "model_id": "b06bed47c4b64a599292065081c63c7d",
       "version_major": 2,
       "version_minor": 0
      },
      "text/plain": [
       "Canvas(toolbar=Toolbar(toolitems=[('Home', 'Reset original view', 'home', 'home'), ('Back', 'Back to previous …"
      ]
     },
     "metadata": {},
     "output_type": "display_data"
    }
   ],
   "source": [
    "plt.plot(sol.t,-abheben(0,sol.y).flatten())\n",
    "plt.title('Normalkraft')\n",
    "plt.grid()\n",
    "plt.show()"
   ]
  },
  {
   "cell_type": "code",
   "execution_count": 12,
   "id": "7cbf7bc1",
   "metadata": {},
   "outputs": [],
   "source": [
    "def ring(param,number_of_points=100):\n",
    "    phi_values = np.linspace(0,2*np.pi,number_of_points)\n",
    "    x_values = R.subs(param)*np.cos(phi_values)\n",
    "    y_values = R.subs(param)*np.sin(phi_values)\n",
    "    return [x_values, y_values]"
   ]
  },
  {
   "cell_type": "code",
   "execution_count": 13,
   "id": "d6a2f36b",
   "metadata": {},
   "outputs": [],
   "source": [
    "x_vals = np.concatenate([sol.y[0,:], sol2.y[0,:]])\n",
    "y_vals = np.concatenate([sol.y[1,:], sol2.y[1,:]])\n",
    "[x_ring, y_ring] = ring(param)\n",
    "\n",
    "plt.plot(x_ring,y_ring,'k',linewidth=3)\n",
    "plt.plot(x_vals, y_vals,color='orange')\n",
    "plt.plot(sol2.y[0,-1],sol2.y[1,-1],'ro')\n",
    "plt.axis('equal')\n",
    "plt.title('Trajektorie der Punktmasse')\n",
    "plt.show()"
   ]
  },
  {
   "cell_type": "code",
   "execution_count": 14,
   "id": "bc798314",
   "metadata": {},
   "outputs": [
    {
     "data": {
      "application/vnd.jupyter.widget-view+json": {
       "model_id": "245ad5b0e9c74ee1bb554bb28f5eba69",
       "version_major": 2,
       "version_minor": 0
      },
      "text/plain": [
       "Canvas(toolbar=Toolbar(toolitems=[('Home', 'Reset original view', 'home', 'home'), ('Back', 'Back to previous …"
      ]
     },
     "metadata": {},
     "output_type": "display_data"
    }
   ],
   "source": [
    "%matplotlib widget \n",
    "\n",
    "fig, ax = plt.subplots(figsize=(7,7))\n",
    "\n",
    "line_ring, = ax.plot([],'k',linewidth=3)\n",
    "line_traj, = ax.plot([],'.8',linestyle='dashed')\n",
    "line_masspoint, = ax.plot([],'ro')\n",
    "\n",
    "\n",
    "x_ring = 2*np.cos(np.linspace(0,2*np.pi,100))\n",
    "y_ring = 2*np.sin(np.linspace(0,2*np.pi,100))\n",
    "line_ring.set_data((x_ring, y_ring))\n",
    "\n",
    "ax.set_xlim(-2.5, 2.5)\n",
    "ax.set_ylim(-2.5, 2.5)\n",
    "\n",
    "def animate(frame_num):\n",
    "    x_point = x_vals[frame_num]\n",
    "    y_point = y_vals[frame_num]\n",
    "        \n",
    "    line_masspoint.set_data((x_point, y_point))\n",
    "    line_traj.set_data((x_vals[:frame_num], y_vals[:frame_num]))\n",
    "    return line_masspoint, line_traj\n",
    "\n",
    "\n",
    "anim = FuncAnimation(fig, animate, frames=len(x_vals), interval=20, blit=True)\n",
    "plt.show()"
   ]
  },
  {
   "cell_type": "code",
   "execution_count": 15,
   "id": "bf7c90ed",
   "metadata": {},
   "outputs": [],
   "source": [
    "def odeToVectorField(odes, var):\n",
    "    \"\"\"Überführt Bewegungsgleichungen (a.k.a. ODE-System 2. Ordnung) in ODE-System 1. Ordnung (für numerische Solver).\n",
    "    \n",
    "    Ausgabe: \n",
    "    1. neue symbolische Variablen x1, ..., xN (generalisierte Koordinaten, dann generalisierte Geschwindigkeiten)\n",
    "    2. rechte Seite als ODE-System 1. Ordnung\"\"\"\n",
    "    if type(odes) != type(list()):\n",
    "        odes = [odes]\n",
    "        var = [var]\n",
    "    rhs = Array([*diff(Array(var),t), *solve(odes,diff(Array(var),t,t)).values()])\n",
    "    old = list(np.array([var, diff(Array(var),t)]).flatten())\n",
    "    new = symbols('x1:'+str(len(old)+1))\n",
    "    return [new, rhs.subs(dict(zip(old,new)))]\n"
   ]
  },
  {
   "cell_type": "code",
   "execution_count": 16,
   "id": "2946f7f9",
   "metadata": {},
   "outputs": [
    {
     "data": {
      "text/html": [
       "<script>\n",
       "code_show=true; \n",
       "function code_toggle() {\n",
       " if (code_show){\n",
       " $('div.input').hide();\n",
       " } else {\n",
       " $('div.input').show();\n",
       " }\n",
       " code_show = !code_show\n",
       "} \n",
       "$( document ).ready(code_toggle);\n",
       "</script>\n",
       "<form action=\"javascript:code_toggle()\"><input type=\"submit\" value=\"Um den Code sichtbar zu machen, klicken Sie hier.\"></form>"
      ],
      "text/plain": [
       "<IPython.core.display.HTML object>"
      ]
     },
     "execution_count": 16,
     "metadata": {},
     "output_type": "execute_result"
    }
   ],
   "source": [
    "from IPython.display import HTML\n",
    "\n",
    "HTML('''<script>\n",
    "code_show=true; \n",
    "function code_toggle() {\n",
    " if (code_show){\n",
    " $('div.input').hide();\n",
    " } else {\n",
    " $('div.input').show();\n",
    " }\n",
    " code_show = !code_show\n",
    "} \n",
    "$( document ).ready(code_toggle);\n",
    "</script>\n",
    "<form action=\"javascript:code_toggle()\"><input type=\"submit\" value=\"Um den Code sichtbar zu machen, klicken Sie hier.\"></form>''')"
   ]
  },
  {
   "cell_type": "code",
   "execution_count": 17,
   "id": "031597b8",
   "metadata": {},
   "outputs": [
    {
     "name": "stdout",
     "output_type": "stream",
     "text": [
      "Requirement already satisfied: watermark in c:\\users\\f.rentzsch\\anaconda3\\lib\\site-packages (2.2.0)\n",
      "Requirement already satisfied: ipython in c:\\users\\f.rentzsch\\anaconda3\\lib\\site-packages (from watermark) (7.22.0)\n",
      "Requirement already satisfied: pickleshare in c:\\users\\f.rentzsch\\anaconda3\\lib\\site-packages (from ipython->watermark) (0.7.5)\n",
      "Requirement already satisfied: decorator in c:\\users\\f.rentzsch\\anaconda3\\lib\\site-packages (from ipython->watermark) (5.0.6)\n",
      "Requirement already satisfied: colorama in c:\\users\\f.rentzsch\\anaconda3\\lib\\site-packages (from ipython->watermark) (0.4.4)\n",
      "Requirement already satisfied: setuptools>=18.5 in c:\\users\\f.rentzsch\\anaconda3\\lib\\site-packages (from ipython->watermark) (52.0.0.post20210125)\n",
      "Requirement already satisfied: backcall in c:\\users\\f.rentzsch\\anaconda3\\lib\\site-packages (from ipython->watermark) (0.2.0)\n",
      "Requirement already satisfied: jedi>=0.16 in c:\\users\\f.rentzsch\\anaconda3\\lib\\site-packages (from ipython->watermark) (0.17.2)\n",
      "Requirement already satisfied: pygments in c:\\users\\f.rentzsch\\anaconda3\\lib\\site-packages (from ipython->watermark) (2.8.1)\n",
      "Requirement already satisfied: traitlets>=4.2 in c:\\users\\f.rentzsch\\anaconda3\\lib\\site-packages (from ipython->watermark) (5.0.5)\n",
      "Requirement already satisfied: prompt-toolkit!=3.0.0,!=3.0.1,<3.1.0,>=2.0.0 in c:\\users\\f.rentzsch\\anaconda3\\lib\\site-packages (from ipython->watermark) (3.0.17)\n",
      "Requirement already satisfied: parso<0.8.0,>=0.7.0 in c:\\users\\f.rentzsch\\anaconda3\\lib\\site-packages (from jedi>=0.16->ipython->watermark) (0.7.0)\n",
      "Requirement already satisfied: wcwidth in c:\\users\\f.rentzsch\\anaconda3\\lib\\site-packages (from prompt-toolkit!=3.0.0,!=3.0.1,<3.1.0,>=2.0.0->ipython->watermark) (0.2.5)\n",
      "Requirement already satisfied: ipython-genutils in c:\\users\\f.rentzsch\\anaconda3\\lib\\site-packages (from traitlets>=4.2->ipython->watermark) (0.2.0)\n",
      "Python implementation: CPython\n",
      "Python version       : 3.8.8\n",
      "IPython version      : 7.22.0\n",
      "\n",
      "numpy     : 1.20.1\n",
      "sympy     : 1.8\n",
      "matplotlib: 3.3.4\n",
      "scipy     : 1.6.2\n",
      "\n",
      "Compiler    : MSC v.1916 64 bit (AMD64)\n",
      "OS          : Windows\n",
      "Release     : 10\n",
      "Machine     : AMD64\n",
      "Processor   : Intel64 Family 6 Model 140 Stepping 1, GenuineIntel\n",
      "CPU cores   : 8\n",
      "Architecture: 64bit\n",
      "\n",
      " \n",
      "Last updated: Tue Jan 11 2022 11:37:24Mitteleuropäische Zeit\n",
      "\n"
     ]
    }
   ],
   "source": [
    "! pip install watermark \n",
    "\n",
    "%load_ext watermark\n",
    "\n",
    "# python, ipython, packages and machine characteristics\n",
    "%watermark -v -m -p numpy,sympy,matplotlib,scipy\n",
    "\n",
    "print(\" \")\n",
    "%watermark -u -n -t -z"
   ]
  },
  {
   "cell_type": "code",
   "execution_count": null,
   "id": "fd69b704-bfca-42bc-be81-5bbec2f468bb",
   "metadata": {},
   "outputs": [],
   "source": []
  }
 ],
 "metadata": {
  "kernelspec": {
   "display_name": "Python 3",
   "language": "python",
   "name": "python3"
  },
  "language_info": {
   "codemirror_mode": {
    "name": "ipython",
    "version": 3
   },
   "file_extension": ".py",
   "mimetype": "text/x-python",
   "name": "python",
   "nbconvert_exporter": "python",
   "pygments_lexer": "ipython3",
   "version": "3.8.8"
  }
 },
 "nbformat": 4,
 "nbformat_minor": 5
}
