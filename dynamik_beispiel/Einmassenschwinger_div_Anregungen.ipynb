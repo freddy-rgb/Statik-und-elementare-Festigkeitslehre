{
 "cells": [
  {
   "cell_type": "markdown",
   "id": "7b53977a-7bda-4f41-8e6a-67e83519109f",
   "metadata": {},
   "source": [
    "# Anregung des Einmassenschwingers (EMS) mit verschiedenen Signalen"
   ]
  },
  {
   "cell_type": "markdown",
   "id": "f8b272c8-b0e1-43a8-a508-3984edf32e2e",
   "metadata": {},
   "source": [
    "### Importieren der Bibliotheken"
   ]
  },
  {
   "cell_type": "code",
   "execution_count": 1,
   "id": "288db039-c0ae-4188-9ba7-141b4899a4ed",
   "metadata": {
    "tags": []
   },
   "outputs": [],
   "source": [
    "# geladene Bibliotheken und Funktionen\n",
    "import numpy as np\n",
    "from sympy import *\n",
    "from sympy.physics.vector import *\n",
    "import matplotlib.pyplot as plt\n",
    "from matplotlib.animation import FuncAnimation\n",
    "from scipy.integrate import solve_ivp\n",
    "from matplotlib import colors as mcolors\n",
    "from ipywidgets import interactive, Layout\n",
    "\n",
    "# Hilfsfunktion\n",
    "def odeToVectorField(odes, dep_vars, indep_var):\n",
    "    \"\"\"Überführt Bewegungsgleichungen (a.k.a. ODE-System 2. Ordnung) in ODE-System 1. Ordnung (für numerische Solver).\n",
    "    \n",
    "    Ausgabe: \n",
    "    1. neue symbolische Variablen x1, ..., xN (generalisierte Koordinaten, dann generalisierte Geschwindigkeiten)\n",
    "    2. rechte Seite als ODE-System 1. Ordnung\"\"\"\n",
    "    if type(odes) != type(list()):\n",
    "        odes = [odes]\n",
    "        dep_vars = [dep_vars]\n",
    "    rhs = Array([*diff(Array(dep_vars),indep_var), *solve(odes,diff(Array(dep_vars),indep_var,indep_var)).values()])\n",
    "    old = list(np.array([dep_vars, diff(Array(dep_vars),indep_var)]).flatten())\n",
    "    new = symbols('x1:'+str(len(old)+1))\n",
    "    return [new, rhs.subs(dict(zip(old,new)))]"
   ]
  },
  {
   "cell_type": "markdown",
   "id": "cb630ea9-c0ca-4af0-8062-057dd6df93e8",
   "metadata": {},
   "source": [
    "### Einleitung\n",
    "In diesem Notebook visualisieren wir die Lösung der Bewegungsgleichung des Einmassenschwingers (EMS) für verschiedene Anregungen $F$. Erinnerung: Die Bewegungsgleichung des EMS lautet\n",
    "\n",
    "$$\\ddot{x} + 2D \\omega_0 \\dot{x} + \\omega_0^2 x = \\frac{F(t)}{m} \\, .$$\n",
    "\n",
    "Um die Bewegungsgleichung eindeutig zu lösen, d.h. $x(t)$ für alle $t$ in einem gewünschten Zeitintervall zu erhalten, benötigt man noch die beiden Anfangsbedingungen (ABen) $x(t=0) = x_0$ und $\\dot{x}(t=0) = v_0$."
   ]
  },
  {
   "cell_type": "code",
   "execution_count": 2,
   "id": "1c92d406-bc3b-46ca-bd78-ca817d730be3",
   "metadata": {},
   "outputs": [
    {
     "data": {
      "text/latex": [
       "$\\displaystyle 2 D \\omega_{0} \\frac{d}{d t} x{\\left(t \\right)} + \\omega_{0}^{2} x{\\left(t \\right)} + \\frac{d^{2}}{d t^{2}} x{\\left(t \\right)} - \\frac{F{\\left(t \\right)}}{m}$"
      ],
      "text/plain": [
       "2*D*omega0*Derivative(x(t), t) + omega0**2*x(t) + Derivative(x(t), (t, 2)) - F(t)/m"
      ]
     },
     "execution_count": 2,
     "metadata": {},
     "output_type": "execute_result"
    }
   ],
   "source": [
    "m, D, omega0, t = symbols('m, D, omega0, t')\n",
    "x = Function('x')(t)\n",
    "F = Function('F')(t)\n",
    "\n",
    "bewegungsGl = x.diff(t,t) + 2*D*omega0*x.diff() + omega0**2*x - F/m\n",
    "bewegungsGl"
   ]
  },
  {
   "cell_type": "markdown",
   "id": "aeff8c18-88bf-4203-a6ea-63801dfb790b",
   "metadata": {},
   "source": [
    "## Freie Schwingungen (Unterkritische Dämpfung: $0\\leq D<1$)"
   ]
  },
  {
   "cell_type": "markdown",
   "id": "57d3d045-5fba-44a4-bf24-27696ba648ed",
   "metadata": {},
   "source": [
    "Wir visualisieren $x$ zunächst für den Fall *freier* Schwingungen, d.h. $F \\equiv 0$. Es gibt somit keine Anregung und allein die ABen stehen als freie Parameter zur Verfügung. Im Beispiel sind $x_0 = 1 \\text{ m}$ und $v_0 = 0 \\text{ m/s}$."
   ]
  },
  {
   "cell_type": "code",
   "execution_count": 3,
   "id": "ea140461-b7d4-4cb5-8256-50bb0848aa95",
   "metadata": {
    "tags": []
   },
   "outputs": [
    {
     "data": {
      "application/vnd.jupyter.widget-view+json": {
       "model_id": "c7b8c27df1f344c59b3ba1ee23fada2c",
       "version_major": 2,
       "version_minor": 0
      },
      "text/plain": [
       "interactive(children=(FloatSlider(value=5.0, description='$\\\\omega_0$ [rad/s]', layout=Layout(align_items='cen…"
      ]
     },
     "metadata": {},
     "output_type": "display_data"
    }
   ],
   "source": [
    "# Anfangsbedingungen\n",
    "x0 = 1\n",
    "v0 = 0\n",
    "\n",
    "# Zeit, t\n",
    "tsteps = np.linspace(0,20,1000)\n",
    "    \n",
    "def update(omega0,D):    \n",
    "    # gedämpfte Eigenkreisfrequenz\n",
    "    omega_d = omega0*np.sqrt(1-D**2)\n",
    "\n",
    "    # Integrationskonstanten\n",
    "    A = x0\n",
    "    B = (v0 + D*x0*omega0)/omega_d\n",
    "    \n",
    "    # Position, x\n",
    "    pos = np.exp(-D*omega0*tsteps)*(A*np.cos(omega_d*tsteps) + B*np.sin(omega_d*tsteps))\n",
    " \n",
    "    plt.figure(figsize=(9,6))\n",
    "    plt.plot(tsteps,pos)\n",
    "    plt.xlim(*tsteps[[0,-1]])\n",
    "    plt.ylim([-1.2,1.2])\n",
    "    plt.xlabel('$t$ in s',size=15)\n",
    "    plt.ylabel('$x$ in m',size=15)\n",
    "    plt.grid(True)\n",
    "    plt.show()\n",
    "    \n",
    "\n",
    "interactive_plot = interactive(update, omega0=(1,10,.01), D=(0,.99,.01))\n",
    "widget1 = interactive_plot.children[0]\n",
    "widget2 = interactive_plot.children[1]\n",
    "widget1.layout = Layout(width='400px', align_items='center')\n",
    "widget2.layout = Layout(width='400px', align_items='center')\n",
    "widget1.description = '$\\omega_0$ [rad/s]'\n",
    "widget2.description = '$D$ [1]'\n",
    "#widget1.continuous_update = True\n",
    "#widget2.continuous_update = True\n",
    "output = interactive_plot.children[-1]\n",
    "interactive_plot.layout = Layout(width='570px',align_items='center')\n",
    "interactive_plot"
   ]
  },
  {
   "cell_type": "markdown",
   "id": "4b4037ac-7c7a-4183-9aa2-ec158f8d841d",
   "metadata": {},
   "source": [
    "Mit den beiden Schiebereglern können die Eigenkreisfrequenz $\\omega_0$ und der Dämpfungsgrad $D$ des EMS eingestellt werden."
   ]
  },
  {
   "cell_type": "markdown",
   "id": "24c7d4e7-f8de-4780-9ee8-5ef3f6e6e1df",
   "metadata": {},
   "source": [
    "## Erzwungene Schwingungen \n",
    "### Sprung bei $t=10$s\n",
    "Wir betrachten als nächstes die Auswirkungen eines Sprungs in der Kraftanregung von $0 \\text{ N}$ auf $1 \\text{ N}$ zum Zeitpunkt $t=10$."
   ]
  },
  {
   "cell_type": "code",
   "execution_count": 4,
   "id": "398331fe-7949-4513-b547-10f24b226393",
   "metadata": {},
   "outputs": [
    {
     "data": {
      "application/vnd.jupyter.widget-view+json": {
       "model_id": "90058119014e4f49b5e943991adc080b",
       "version_major": 2,
       "version_minor": 0
      },
      "text/plain": [
       "interactive(children=(FloatSlider(value=6.25, description='$\\\\omega_0$ [rad/s]', layout=Layout(align_items='ce…"
      ]
     },
     "metadata": {},
     "output_type": "display_data"
    }
   ],
   "source": [
    "params = {m: .3}\n",
    "var, system = odeToVectorField(bewegungsGl, x, t)\n",
    "\n",
    "rhs = lambdify([t, var, F, omega0, D], system.subs(params))\n",
    "anregung = np.vectorize(lambda t: 0 if t<10 else 1)\n",
    "\n",
    "# Zeitspanne für welche die Bewegungsgleichungen gelöst werden soll\n",
    "tspan = [0,20] # in s\n",
    "# Anfangsbedingungen \n",
    "ABen = [0, 0]  # in m, m/s\n",
    "\n",
    "\n",
    "def update(omega0,D):\n",
    "    sol=solve_ivp(lambda t, var: rhs(t,var,anregung(t),omega0,D),tspan,ABen,rtol=1e-9,atol=1e-12,t_eval=np.linspace(*tspan,1000))\n",
    "    \n",
    "    plt.figure(figsize=(9,6))\n",
    "    plt.plot(sol.t,sol.y[0,:])\n",
    "    plt.xlim(*tspan)\n",
    "    plt.ylim([0,1])\n",
    "    plt.xlabel('$t$ in s',size=15)\n",
    "    plt.ylabel('$x$ in m',size=15)\n",
    "    plt.grid(True)\n",
    "    plt.show()\n",
    "    \n",
    "    \n",
    "interactive_plot = interactive(update, omega0=(2.5,10,.01), D=(0,.99,.01))\n",
    "widget1 = interactive_plot.children[0]\n",
    "widget2 = interactive_plot.children[1]\n",
    "widget1.layout = Layout(width='400px', align_items='center')\n",
    "widget2.layout = Layout(width='400px', align_items='center')\n",
    "widget1.description = '$\\omega_0$ [rad/s]'\n",
    "widget2.description = '$D$ [1]'\n",
    "#widget1.continuous_update = True\n",
    "#widget2.continuous_update = True\n",
    "output = interactive_plot.children[-1]\n",
    "interactive_plot.layout = Layout(width='570px',align_items='center')\n",
    "interactive_plot"
   ]
  },
  {
   "cell_type": "markdown",
   "id": "64ec44f8-7609-4843-bbbc-9e5bfc06dfdf",
   "metadata": {},
   "source": [
    "### Kosinusanregung: $F(t) = F_0 \\cos(\\Omega t)$"
   ]
  },
  {
   "cell_type": "markdown",
   "id": "37dfe32c-bbac-442c-ac04-0b07519ffd1f",
   "metadata": {},
   "source": [
    "Um die Position $x$ zu zeichnen, brauchen wir die homogene Lösung $x_h$ und die partikuläre Lösung $x_p$. Es gilt \n",
    "\n",
    "$$ \n",
    "\\begin{align} \n",
    "x_h(t) &= e^{-D \\omega_0 t} (A \\cos(\\omega_d t) + B \\sin(\\omega_d t)) \\, , \\\\\n",
    "x_p(t) &= \\kappa \\alpha(\\eta) F_0 \\cos(\\Omega t - \\phi(\\eta)) \\, .\n",
    "\\end{align}$$\n",
    "\n",
    "Außerdem wissen wir dass $x = x_h + x_p$ gilt. In der homogenen Lösung $x_h$ und somit in der Gesamtlösung $x$ stehen die noch unbekannten Integrationskonstanten $A, B$, die aus den Anfangsbedingungen $x(t=0)=x_0$ und $\\dot{x}(t=0)=v_0$ bestimmt werden können. Wir verwenden `sympy` um diese beiden Bedingungen nach $A$ und $B$ aufzulösen. Im Anschluss daran definieren wir die numerischen Funktionen `pos` und `anregung`, die $x$ und $F$ entsprechen und zeichnen diese in ein Diagramm."
   ]
  },
  {
   "cell_type": "code",
   "execution_count": 11,
   "id": "9f222c41-59f4-4e1e-ab74-02437e0446df",
   "metadata": {},
   "outputs": [
    {
     "data": {
      "application/vnd.jupyter.widget-view+json": {
       "model_id": "5aa73816a21f40ce9650406103c495f9",
       "version_major": 2,
       "version_minor": 0
      },
      "text/plain": [
       "interactive(children=(FloatSlider(value=5.0, description='$\\\\Omega$ [rad/s]', layout=Layout(align_items='cente…"
      ]
     },
     "metadata": {},
     "output_type": "display_data"
    }
   ],
   "source": [
    "params = {m: .3, D: .08, omega0: 3}\n",
    "\n",
    "F0 = symbols('F0')\n",
    "params[F0] = 1\n",
    "\n",
    "kappa, omega_d = symbols('kappa, omega_d')\n",
    "Omega, eta = symbols('Omega, eta')\n",
    "x0, v0 = symbols('x0, v0')\n",
    "A, B = symbols('A, B')\n",
    "alpha, phi = symbols('alpha, phi')\n",
    "\n",
    "xh = exp(-D*omega0*t)*(A*cos(omega_d*t)+B*sin(omega_d*t)) # homogene Lösung\n",
    "xp = kappa*alpha*F0*cos(Omega*t-phi)                      # partikuläre Lösung\n",
    "x = xh + xp                                               # Gesamtlösung \n",
    "\n",
    "# Integrationskonstanten A, B der homogenen Lösung\n",
    "intKonstanten = solve([x.subs(t,0) - x0, x.diff(t).subs(t,0) - v0],[A,B])\n",
    "\n",
    "ampfreqgang = 1/sqrt((1-eta**2)**2 + 4*D**2*eta**2)\n",
    "phasenfreqgang = atan2(2*D*eta,1-eta**2) \n",
    "pos = x.subs(intKonstanten).subs([(alpha,ampfreqgang),(phi,phasenfreqgang)]).subs(params)\n",
    "\n",
    "pos = lambdify([kappa, omega_d, Omega, eta, x0, v0, t],pos)\n",
    "anregung = lambdify([F0,Omega,t], F0*cos(Omega*t))\n",
    "\n",
    "\n",
    "def update(Omega):\n",
    "    # Systemparameter\n",
    "    c = m*omega0**2  # Federsteifigkeit\n",
    "    kappa = float(1/c.subs(params)) # Übertragungskoeffizient \n",
    "    omega_d = float((omega0*sqrt(1-D**2)).subs(params)) # gedämpfte Eigenkreisfrequenz\n",
    "\n",
    "    # Frequenzverhältnis \n",
    "    eta = float(Omega/omega0.subs(params))\n",
    "    \n",
    "    # Amplitude der Anregung\n",
    "    f0 = float(F0.subs(params))\n",
    "\n",
    "    # Anfangsbedingungen \n",
    "    x0 = 1 # in m\n",
    "    v0 = 0 # in m/s\n",
    "    \n",
    "    # Zeit\n",
    "    tspan = [0, 40]\n",
    "    tsteps = np.linspace(*tspan,1000)\n",
    "    \n",
    "    plt.figure(figsize=(9, 6))\n",
    "    plt.plot(tsteps, anregung(f0,Omega,tsteps), color=mcolors.CSS4_COLORS['lightgray'], label='$F$')\n",
    "    plt.plot(tsteps, pos(kappa, omega_d, Omega, eta, x0, v0, tsteps), label='$x$')\n",
    "    plt.xlim(*tspan)\n",
    "    plt.ylim(-2.2,2.2)\n",
    "    plt.xlabel('$t$',size=15)\n",
    "    plt.ylabel('$F$ in N, $x$ in m',size=15)\n",
    "    plt.legend(fontsize=14)\n",
    "    plt.show()\n",
    "    \n",
    "interactive_plot = interactive(update, Omega=(1,10,.01))\n",
    "widget = interactive_plot.children[0]\n",
    "widget.layout = Layout(width='400px', align_items='center')\n",
    "widget.description = '$\\Omega$ [rad/s]'\n",
    "widget.continuous_update = True\n",
    "output = interactive_plot.children[-1]\n",
    "interactive_plot.layout = Layout(width='570px',align_items='center')\n",
    "interactive_plot"
   ]
  },
  {
   "cell_type": "markdown",
   "id": "1b675dc3-f23f-4e51-8c5b-6b29eb3b5087",
   "metadata": {},
   "source": [
    "Durch Bewegung des Schiebereglers kann die Anregerkreisfrequenz $\\Omega$ im Bereich von $1 \\text{ rad/s}$ bis $10 \\text{ rad/s}$ geändert werden. \n",
    "Für welches $\\Omega$ ist die Amplitude von $x$ im eingeschwungenen Zustand am größten?"
   ]
  },
  {
   "cell_type": "markdown",
   "id": "e2d8d22c-b87d-4417-aa86-4d3e32fec47b",
   "metadata": {},
   "source": [
    "### Rechteckanregung: $\\DeclareMathOperator{\\square}{square} \n",
    "F(t) = 1\\text{N} \\square(\\Omega t)$"
   ]
  },
  {
   "cell_type": "code",
   "execution_count": 10,
   "id": "61cc815c-019d-49ef-bf78-f099dcaf72d3",
   "metadata": {},
   "outputs": [
    {
     "data": {
      "application/vnd.jupyter.widget-view+json": {
       "model_id": "5930056c75f543608b5e779ff0c1c832",
       "version_major": 2,
       "version_minor": 0
      },
      "text/plain": [
       "interactive(children=(FloatSlider(value=4.0, continuous_update=False, description='$\\\\Omega$ [rad/s]', layout=…"
      ]
     },
     "metadata": {},
     "output_type": "display_data"
    }
   ],
   "source": [
    "square = lambda t, Omega: np.sign(np.sin(Omega*t))\n",
    "\n",
    "def update(Omega):\n",
    "    plt.figure(figsize=(9, 6))\n",
    "    rhs = lambdify([t, var, F], system.subs(params))\n",
    "    anregung = lambda t: square(t,Omega)\n",
    "    \n",
    "    # Zeitspanne für welche die Bewegungsgleichungen gelöst werden soll\n",
    "    tspan = [0,40] # in s\n",
    "    # Anfangsbedingungen \n",
    "    ABen = [1, 0]  # in m, m/s\n",
    "\n",
    "    sol=solve_ivp(lambda t, var: rhs(t,var, anregung(t)),tspan,ABen,rtol=1e-9,atol=1e-12,t_eval=np.linspace(*tspan,1000))\n",
    "    plt.plot(sol.t,anregung(sol.t),color=mcolors.CSS4_COLORS['lightgray'])\n",
    "    plt.plot(sol.t,sol.y[0,:])\n",
    "    plt.xlim(*tspan)\n",
    "    plt.ylim(-3,3)\n",
    "    plt.xlabel('$t$',size=15)\n",
    "    plt.ylabel('$x(t)$',size=15)\n",
    "    plt.show()\n",
    "    \n",
    "interactive_plot = interactive(update, Omega=(1,7,.01))\n",
    "widget = interactive_plot.children[0]\n",
    "widget.layout = Layout(width='400px', align_items='center')\n",
    "widget.description = '$\\Omega$ [rad/s]'\n",
    "widget.continuous_update = False\n",
    "output = interactive_plot.children[-1]\n",
    "interactive_plot.layout = Layout(width='570px',align_items='center')\n",
    "interactive_plot"
   ]
  },
  {
   "cell_type": "code",
   "execution_count": null,
   "id": "2ff9659a-669f-4322-bba1-7146ed3d7690",
   "metadata": {},
   "outputs": [],
   "source": []
  }
 ],
 "metadata": {
  "kernelspec": {
   "display_name": "Python 3",
   "language": "python",
   "name": "python3"
  },
  "language_info": {
   "codemirror_mode": {
    "name": "ipython",
    "version": 3
   },
   "file_extension": ".py",
   "mimetype": "text/x-python",
   "name": "python",
   "nbconvert_exporter": "python",
   "pygments_lexer": "ipython3",
   "version": "3.8.8"
  }
 },
 "nbformat": 4,
 "nbformat_minor": 5
}
