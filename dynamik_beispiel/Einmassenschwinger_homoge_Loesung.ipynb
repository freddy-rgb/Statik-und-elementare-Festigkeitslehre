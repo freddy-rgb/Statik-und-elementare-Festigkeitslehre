{
 "cells": [
  {
   "cell_type": "markdown",
   "id": "e690e5bd-618a-4031-8d15-40c72edc5cf9",
   "metadata": {},
   "source": [
    "## Visualisierung der freien Schwingungen des Einmassenschwingers\n",
    "In diesem Notebook visualisieren wir die freien Schwingungen des Einmassenschwingers, d.h. für den Fall ohne Anregung. Der Einmassenschwinger wird also an einer Anfangsposition $x_0$ mit einer Anfangsgeschwindigkeit $v_0$ gestartet und ist dann sich selbst überlassen. Die Bewegungsgleichung des Einmassenschwingers lautet \n",
    "\n",
    "$$\n",
    "\\ddot{x} + 2 D \\omega_0 \\dot{x} + \\omega_0^2 x = 0 \\, .\n",
    "$$\n",
    "\n",
    "Die Lösung dieser Bewegungsgleichung für den Fall unterkritischer Dämpfung, d.h. $0\\leq D<1$ ist die sogenannte homogene Lösung $x_h$ (homogen, da die rechte Seite der Differentialgleichung $0$ ist) und lautet \n",
    "\n",
    "$$\n",
    "x_h(t) = e^{-D \\omega_0 t} (A \\cos(\\omega_d t) + B \\sin(\\omega_d t)) \\, .\n",
    "$$\n",
    "\n",
    "Die beiden Integrationskonstanten $A$, $B$ sind hier noch unbekannt. Um die Lösung eindeutig zu machen, werden $A$ und $B$ an die Anfangsbedingungen $x_h(t=0)=x_0$ und $\\dot{x}_h(t=0)=v_0$ angepasst. \n",
    "\n",
    "### Importieren der Bibliotheken"
   ]
  },
  {
   "cell_type": "code",
   "execution_count": 10,
   "id": "2d9a1138-e7c7-4700-bc05-01ea49f73dda",
   "metadata": {},
   "outputs": [],
   "source": [
    "import numpy as np\n",
    "from sympy import *\n",
    "from sympy.physics.vector import *\n",
    "import matplotlib.pyplot as plt\n",
    "from matplotlib.animation import FuncAnimation\n",
    "from scipy.integrate import solve_ivp\n",
    "from matplotlib import colors as mcolors\n",
    "from ipywidgets import interactive, Layout"
   ]
  },
  {
   "cell_type": "markdown",
   "id": "1ed82f87-a24e-448b-91b5-1380be3d15bd",
   "metadata": {},
   "source": [
    "### Aufstellen der homogenenen Lösung\n",
    "Wir definieren zunächst die symbolischen Variablen `D`, `omega0`, `A`, `B` und `t`. Danach stellen wir den symbolischen Ausdruck für `omega_d` und im Anschluss daran `xh` auf."
   ]
  },
  {
   "cell_type": "code",
   "execution_count": 11,
   "id": "5c4c5f73-f794-4ab7-96c1-45e1627819b7",
   "metadata": {},
   "outputs": [
    {
     "data": {
      "text/latex": [
       "$\\displaystyle \\left(A \\cos{\\left(\\omega_{0} t \\sqrt{1 - D^{2}} \\right)} + B \\sin{\\left(\\omega_{0} t \\sqrt{1 - D^{2}} \\right)}\\right) e^{- D \\omega_{0} t}$"
      ],
      "text/plain": [
       "(A*cos(omega0*t*sqrt(1 - D**2)) + B*sin(omega0*t*sqrt(1 - D**2)))*exp(-D*omega0*t)"
      ]
     },
     "execution_count": 11,
     "metadata": {},
     "output_type": "execute_result"
    }
   ],
   "source": [
    "D, omega0, A, B, t = symbols('D, omega0, A, B, t')\n",
    "\n",
    "omega_d = omega0*sqrt(1-D**2)\n",
    "xh = exp(-D*omega0*t)*(A*cos(omega_d*t) + B*sin(omega_d*t))\n",
    "xh"
   ]
  },
  {
   "cell_type": "markdown",
   "id": "691fd7d5-eb2f-4009-b0e5-ac8c1b41c7b1",
   "metadata": {},
   "source": [
    "### Anpassen der Integrationskonstanten an Anfangsbedingungen\n",
    "Um die Integrationskonstanten an die Anfangsbedingungen anzupassen, verwerden wir den `solve`-Befehl. Zuerst definieren wir hierfür die beiden neuen symbolischen Variablen `x0`, `v0`. Danach können die Anfangsbedingungen als `Eq`-Objekte definiert werden und mit `solve` nach `A`, `B` aufgelöst werden."
   ]
  },
  {
   "cell_type": "code",
   "execution_count": 12,
   "id": "f2deb9ad-fd2c-40c5-a428-9f0a9cebaa5a",
   "metadata": {},
   "outputs": [
    {
     "data": {
      "text/latex": [
       "$\\displaystyle x_{0}$"
      ],
      "text/plain": [
       "x0"
      ]
     },
     "metadata": {},
     "output_type": "display_data"
    },
    {
     "data": {
      "text/latex": [
       "$\\displaystyle \\frac{D x_{0}}{\\sqrt{1 - D^{2}}} + \\frac{v_{0}}{\\omega_{0} \\sqrt{1 - D^{2}}}$"
      ],
      "text/plain": [
       "D*x0/sqrt(1 - D**2) + v0/(omega0*sqrt(1 - D**2))"
      ]
     },
     "metadata": {},
     "output_type": "display_data"
    }
   ],
   "source": [
    "x0, v0 = symbols('x0, v0')\n",
    "\n",
    "AB1 = Eq(xh.subs(t,0), x0)\n",
    "AB2 = Eq(diff(xh,t).subs(t,0), v0)\n",
    "\n",
    "intKonstanten = solve([AB1,AB2],[A,B])\n",
    "\n",
    "display(intKonstanten[A], intKonstanten[B])"
   ]
  },
  {
   "cell_type": "markdown",
   "id": "57fe66c6-4f38-4cb4-ae8a-4446aeb79a76",
   "metadata": {},
   "source": [
    "### Konvertierung der symbolischen Funktion `xh` in numerische Funktion `xh_num`\n",
    "Wir setzen nun die gefundenen Ausdrücke für die Integrationskonstanten und die gewünschten Anfangsbedingungen mit `subs` in `xh` ein und konvertieren daraufhin den symbolischen Ausdruck `xh` mit `lambdify` in eine numerische Funktion, die wir zur Erstellung von Grafiken gebrauchen werden."
   ]
  },
  {
   "cell_type": "code",
   "execution_count": 13,
   "id": "e631ae6a-26d1-4666-80e8-49fa5dfa0dc8",
   "metadata": {},
   "outputs": [
    {
     "data": {
      "text/plain": [
       "array([ 0.65970015,  0.15057437, -0.12435477])"
      ]
     },
     "execution_count": 13,
     "metadata": {},
     "output_type": "execute_result"
    }
   ],
   "source": [
    "ABen = {x0: 1, v0: 0}\n",
    "xh_num = lambdify([D,omega0,t], xh.subs(intKonstanten).subs(ABen))\n",
    "xh_num(.5,1,np.array([1,2,3]))"
   ]
  },
  {
   "cell_type": "markdown",
   "id": "5cfb7c6c-cbea-4cf1-b762-328ad48f0392",
   "metadata": {},
   "source": [
    "### Interaktive Grafik\n",
    "Zu guter Letzt stellen wir die homogene Lösung $x_h$ mit unserer numerischen Funktion `xh_num` grafisch dar und gewährleisten eine gewisse Interaktivität mit je einem Schieberegler für die Eigenkreisfrequenz $\\omega_0$ und den Dämpfungsgrad $D$."
   ]
  },
  {
   "cell_type": "code",
   "execution_count": 9,
   "id": "ad4f30f1-51d4-4233-9cf8-f785a563f232",
   "metadata": {},
   "outputs": [
    {
     "data": {
      "application/vnd.jupyter.widget-view+json": {
       "model_id": "c4a827c167c14e66b8c93faa7aa5d46f",
       "version_major": 2,
       "version_minor": 0
      },
      "text/plain": [
       "interactive(children=(FloatSlider(value=5.0, description='$\\\\omega_0$ [rad/s]', layout=Layout(align_items='cen…"
      ]
     },
     "metadata": {},
     "output_type": "display_data"
    }
   ],
   "source": [
    "# Zeit, t\n",
    "tsteps = np.linspace(0,20,1000)\n",
    "    \n",
    "def update(omega0,D):        \n",
    "    plt.figure(figsize=(9,6))\n",
    "    plt.plot(tsteps,xh_num(D,omega0,tsteps))\n",
    "    plt.xlim(*tsteps[[0,-1]])\n",
    "    plt.ylim([-1.2,1.2])\n",
    "    plt.xlabel('$t$ in s',size=15)\n",
    "    plt.ylabel('$x$ in m',size=15)\n",
    "    plt.grid(True)\n",
    "    plt.show()\n",
    "    \n",
    "\n",
    "interactive_plot = interactive(update, omega0=(1,10,.01), D=(0,.99,.01))\n",
    "widget1 = interactive_plot.children[0]\n",
    "widget2 = interactive_plot.children[1]\n",
    "widget1.layout = Layout(width='400px', align_items='center')\n",
    "widget2.layout = Layout(width='400px', align_items='center')\n",
    "widget1.description = '$\\omega_0$ [rad/s]'\n",
    "widget2.description = '$D$ [1]'\n",
    "#widget1.continuous_update = True\n",
    "#widget2.continuous_update = True\n",
    "output = interactive_plot.children[-1]\n",
    "interactive_plot.layout = Layout(width='570px',align_items='center')\n",
    "interactive_plot"
   ]
  },
  {
   "cell_type": "code",
   "execution_count": null,
   "id": "ce09f2b4-b7c1-4629-a0cd-90c9b7174a0d",
   "metadata": {},
   "outputs": [],
   "source": []
  }
 ],
 "metadata": {
  "kernelspec": {
   "display_name": "Python 3",
   "language": "python",
   "name": "python3"
  },
  "language_info": {
   "codemirror_mode": {
    "name": "ipython",
    "version": 3
   },
   "file_extension": ".py",
   "mimetype": "text/x-python",
   "name": "python",
   "nbconvert_exporter": "python",
   "pygments_lexer": "ipython3",
   "version": "3.8.8"
  }
 },
 "nbformat": 4,
 "nbformat_minor": 5
}
