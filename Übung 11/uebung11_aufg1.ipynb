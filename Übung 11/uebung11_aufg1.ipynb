{
 "cells": [
  {
   "cell_type": "markdown",
   "id": "62ef713e-176c-445a-85e9-87239b8b7557",
   "metadata": {},
   "source": [
    "### Übungsblatt 11, Aufgabe 1"
   ]
  },
  {
   "cell_type": "markdown",
   "id": "4f8813c6-1b56-4e6f-8345-dceac1c6c9e9",
   "metadata": {},
   "source": [
    "#### a) Biegelinie für den Fall mit Loslager an der Stelle $x=l$ (statisch unbestimmtes System)\n",
    "Zuerst definieren wir die gegebenen Größen."
   ]
  },
  {
   "cell_type": "code",
   "execution_count": 66,
   "id": "8f4f8c58-e767-4f9c-b949-7e4d18b35d72",
   "metadata": {},
   "outputs": [],
   "source": [
    "from sympy import *\n",
    "import numpy as np\n",
    "import matplotlib.pyplot as plt\n",
    "from ipywidgets import interactive, Layout\n",
    "\n",
    "# Belastungen\n",
    "q0, Me = symbols('q0, M_e')\n",
    "\n",
    "# Länge\n",
    "l = symbols('l',positive=True)\n",
    "\n",
    "# Koordinate\n",
    "x = symbols('x')\n",
    "\n",
    "# Biegesteifigkeit\n",
    "EI = symbols('EI',positive=True)\n",
    "\n",
    "\n",
    "# Zahlenwerte der Parameter\n",
    "a = .03 # in m -> 3cm\n",
    "b = .01 # in m -> 1cm\n",
    "E = 210e9 # in N/m^2, typischer Wert für Baustahl\n",
    "Iy = 1/12 * a**3 * b\n",
    "params = {l: 1, # in m \n",
    "          EI: E * Iy # in Nm^2\n",
    "         }"
   ]
  },
  {
   "cell_type": "markdown",
   "id": "5375dbb5-420b-4ab3-bdee-5297f8c2adfd",
   "metadata": {},
   "source": [
    "Als nächstes wird die Biegeliniendifferentialgleichung 4. Ordnung integriert."
   ]
  },
  {
   "cell_type": "code",
   "execution_count": 67,
   "id": "e3f95fd5-b484-4bb9-9ac9-545fc2cb3458",
   "metadata": {},
   "outputs": [],
   "source": [
    "# Integrationskonstanten\n",
    "C = symbols('C1:5')\n",
    "\n",
    "# Streckenlast, Integration\n",
    "q = q0\n",
    "Q   = - integrate(q,x)    + C[0] # Querkraft\n",
    "M   =   integrate(Q,x)    + C[1] # Biegemoment\n",
    "w1_ = - integrate(M/EI,x) + C[2] # Biegewinkel\n",
    "w   =   integrate(w1_,x)  + C[3] # Biegelinie"
   ]
  },
  {
   "cell_type": "markdown",
   "id": "48b16eaa-c3d9-4450-bec9-d6c0153a1069",
   "metadata": {},
   "source": [
    "Nun werden noch die Randbedingungen aufgestellt und danach die Integrationskonstanten an diese angepasst. Die drei Randbedingungen \n",
    "\n",
    "$$\n",
    "\\begin{align}\n",
    "w(0) &= 0 \\, , \\\\\n",
    "w'(0) &= 0 \\, , \\\\\n",
    "M(l) &= M_E \n",
    "\\end{align}\n",
    "$$\n",
    "\n",
    "sind die selben wie ohne das Loslager. Für den Fall ohne Loslager war die 4. Randbedingung $Q(l)=0$. Diese ist wegen der Loslagerkraft nicht mehr erfüllt. Stattdessen würde $Q(l)=F_L$ gelten (unter der Annahme, dass die Loslagerkraft $F_L$ nach oben positiv angenommen wird). Da $F_L$ jedoch unbekannt ist, verwerfen wir diese Randbedingung und ersetzen Sie durch die geometr. Randbedingung $w(l)=0$."
   ]
  },
  {
   "cell_type": "code",
   "execution_count": 68,
   "id": "b719f8a7-1af4-4727-b9f4-c3a43124127a",
   "metadata": {},
   "outputs": [
    {
     "data": {
      "text/plain": [
       "{C4: 0, C3: 0, C1: l*q0, C2: M_e - l**2*q0/2}"
      ]
     },
     "execution_count": 68,
     "metadata": {},
     "output_type": "execute_result"
    }
   ],
   "source": [
    "RBen = [w.subs(x,0),    \n",
    "        w1_.subs(x,0),  \n",
    "        #w.subs(x,l), # mit Loslager\n",
    "        Q.subs(x,l), # ohne Loslager\n",
    "        M.subs(x,l)-Me]\n",
    "\n",
    "intKonst = solve(RBen,*C)\n",
    "intKonst"
   ]
  },
  {
   "cell_type": "markdown",
   "id": "769d9ca0-a0b5-411f-bd3f-79d6f6fe21f9",
   "metadata": {},
   "source": [
    "Zu guter Letzt stellen wir einen interaktiven Plot (IP) der Biegelinie bereit mit dem Sie ein wenig experimentieren können. Eine interessante Frage, die sich mit dem IP recht schnell beantworten lässt, ist z.B. für welche Werte von $q_0$ und $M_E$ die Durchbiegung über den gesamten Balken relativ klein ist."
   ]
  },
  {
   "cell_type": "code",
   "execution_count": 70,
   "id": "3c3beee8-c96c-44d8-a312-1dba66611c17",
   "metadata": {},
   "outputs": [
    {
     "data": {
      "application/vnd.jupyter.widget-view+json": {
       "model_id": "22123083a1414b03bf86661ce812ec71",
       "version_major": 2,
       "version_minor": 0
      },
      "text/plain": [
       "interactive(children=(FloatSlider(value=0.0, description='q0_val', max=10000.0, min=-10000.0, step=10.0), Floa…"
      ]
     },
     "metadata": {},
     "output_type": "display_data"
    }
   ],
   "source": [
    "wplot = w.subs({**intKonst,**params})\n",
    "myplot = lambda q0_val, Me_val: plot(wplot.subs({q0: q0_val, Me: Me_val}), (x,0,l.subs(params)), ylim=(.025,-.025), title='Biegelinie', ylabel='$w$')\n",
    "interactive(myplot, q0_val=(-1e4,1e4,10), Me_val=(-1e3,1e3,10))"
   ]
  },
  {
   "cell_type": "code",
   "execution_count": null,
   "id": "907d94e2-5651-4598-930a-12b7732744ef",
   "metadata": {},
   "outputs": [],
   "source": []
  }
 ],
 "metadata": {
  "kernelspec": {
   "display_name": "Python 3 (ipykernel)",
   "language": "python",
   "name": "python3"
  },
  "language_info": {
   "codemirror_mode": {
    "name": "ipython",
    "version": 3
   },
   "file_extension": ".py",
   "mimetype": "text/x-python",
   "name": "python",
   "nbconvert_exporter": "python",
   "pygments_lexer": "ipython3",
   "version": "3.9.7"
  }
 },
 "nbformat": 4,
 "nbformat_minor": 5
}
